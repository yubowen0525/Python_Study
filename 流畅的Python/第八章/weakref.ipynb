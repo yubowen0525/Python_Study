{
 "cells": [
  {
   "cell_type": "code",
   "execution_count": 2,
   "metadata": {},
   "outputs": [],
   "source": [
    "import weakref\n",
    "s1 = {1,2,3}\n",
    "s2 = s1\n",
    "\n",
    "def bye():\n",
    "    print(\"Gone with the wind...\")"
   ]
  },
  {
   "cell_type": "code",
   "execution_count": 3,
   "metadata": {},
   "outputs": [],
   "source": [
    "ender = weakref.finalize(s1, bye)"
   ]
  },
  {
   "cell_type": "code",
   "execution_count": 4,
   "metadata": {},
   "outputs": [
    {
     "data": {
      "text/plain": "True"
     },
     "execution_count": 4,
     "metadata": {},
     "output_type": "execute_result"
    }
   ],
   "source": [
    "ender.alive"
   ]
  },
  {
   "cell_type": "code",
   "execution_count": 6,
   "metadata": {},
   "outputs": [],
   "source": [
    "del s1"
   ]
  },
  {
   "cell_type": "code",
   "execution_count": 7,
   "metadata": {},
   "outputs": [
    {
     "data": {
      "text/plain": "True"
     },
     "execution_count": 7,
     "metadata": {},
     "output_type": "execute_result"
    }
   ],
   "source": [
    "ender.alive"
   ]
  },
  {
   "cell_type": "code",
   "execution_count": 9,
   "metadata": {},
   "outputs": [
    {
     "name": "stdout",
     "output_type": "stream",
     "text": [
      "Gone with the wind...\n"
     ]
    }
   ],
   "source": [
    "del s2"
   ]
  },
  {
   "cell_type": "code",
   "execution_count": 10,
   "metadata": {},
   "outputs": [
    {
     "data": {
      "text/plain": "False"
     },
     "execution_count": 10,
     "metadata": {},
     "output_type": "execute_result"
    }
   ],
   "source": [
    "ender.alive"
   ]
  },
  {
   "cell_type": "markdown",
   "metadata": {},
   "source": [
    "---"
   ]
  },
  {
   "cell_type": "code",
   "execution_count": 34,
   "metadata": {},
   "outputs": [],
   "source": [
    "a_set = {0, 1}"
   ]
  },
  {
   "cell_type": "code",
   "execution_count": 35,
   "metadata": {},
   "outputs": [
    {
     "data": {
      "text/plain": "<weakref at 0x7f82db2d2728; to 'set' at 0x7f82db2f84a8>"
     },
     "execution_count": 35,
     "metadata": {},
     "output_type": "execute_result"
    }
   ],
   "source": [
    "wref = weakref.ref(a_set)\n",
    "wref"
   ]
  },
  {
   "cell_type": "code",
   "execution_count": 36,
   "metadata": {},
   "outputs": [
    {
     "data": {
      "text/plain": "{0, 1}"
     },
     "execution_count": 36,
     "metadata": {},
     "output_type": "execute_result"
    }
   ],
   "source": [
    "wref()"
   ]
  },
  {
   "cell_type": "code",
   "execution_count": 37,
   "metadata": {},
   "outputs": [],
   "source": [
    "del a_set"
   ]
  },
  {
   "cell_type": "code",
   "execution_count": 38,
   "metadata": {},
   "outputs": [
    {
     "data": {
      "text/plain": "{0, 1}"
     },
     "execution_count": 38,
     "metadata": {},
     "output_type": "execute_result"
    }
   ],
   "source": [
    "wref()"
   ]
  },
  {
   "cell_type": "code",
   "execution_count": 39,
   "metadata": {},
   "outputs": [
    {
     "data": {
      "text/plain": "False"
     },
     "execution_count": 39,
     "metadata": {},
     "output_type": "execute_result"
    }
   ],
   "source": [
    "wref() is None"
   ]
  },
  {
   "cell_type": "code",
   "execution_count": 40,
   "metadata": {},
   "outputs": [
    {
     "data": {
      "text/plain": "False"
     },
     "execution_count": 40,
     "metadata": {},
     "output_type": "execute_result"
    }
   ],
   "source": [
    "wref() is None"
   ]
  },
  {
   "cell_type": "code",
   "execution_count": 1,
   "metadata": {},
   "outputs": [
    {
     "ename": "SyntaxError",
     "evalue": "invalid syntax (<ipython-input-1-0f37aa375ff8>, line 1)",
     "output_type": "error",
     "traceback": [
      "\u001b[0;36m  File \u001b[0;32m\"<ipython-input-1-0f37aa375ff8>\"\u001b[0;36m, line \u001b[0;32m1\u001b[0m\n\u001b[0;31m    print(Failed validating 'type' in schema:\u001b[0m\n\u001b[0m                          ^\u001b[0m\n\u001b[0;31mSyntaxError\u001b[0m\u001b[0;31m:\u001b[0m invalid syntax\n"
     ]
    }
   ],
   "source": [
    "print(Failed validating 'type' in schema:\n",
    "    {'components': {'parameters': {'pet_id': {'description': \"Pet's Unique \"\n",
    "                                                             'identifier',\n",
    "                                              'explode': False,\n",
    "                                              'in': 'path',\n",
    "                                              'name': 'pet_id',\n",
    "                                              'required': True,\n",
    "                                              'schema': {'pattern': '^[a-zA-Z0-9-]+$',\n",
    "                                                         'type': 'string'},\n",
    "                                              'style': 'simple'}},\n",
    "                    'schemas': {'ErrrorResponse': {'example': {'error_code': 400,\n",
    "                                                               'message': 'request '\n",
    "                                                                          'error.'},\n",
    "                                                   'properties': {'error_code': {'description': 'Unique '\n",
    "                                                                                                'identifier',\n",
    "                                                                                 'example': 400,\n",
    "                                                                                 'type': 'integer'},\n",
    "                                                                  'message': {'description': 'error '\n",
    "                                                                                             'code '\n",
    "                                                                                             'message',\n",
    "                                                                              'example': 'request '\n",
    "                                                                                         'error.',\n",
    "                                                                              'type': 'string'}},\n",
    "                                                   'required': ['error_code',\n",
    "                                                                'message'],\n",
    "                                                   'title': 'error message',\n",
    "                                                   'type': 'object'},\n",
    "                                'Pet': {'example': {'animal_type': 'cat',\n",
    "                                                    'created': datetime.datetime(2015, 7, 7, 15, 49, 51, 230000, tzinfo=datetime.timezone(datetime.timedelta(0, 7200))),\n",
    "                                                    'id': '123',\n",
    "                                                    'name': 'Susie'},\n",
    "                                        'properties': {'animal_type': {'description': 'Kind '\n",
    "                                                                                      'of '\n",
    "                                                                                      'animal',\n",
    "                                                                       'example': 'cat',\n",
    "                                                                       'minLength': 1,\n",
    "                                                                       'type': 'string'},\n",
    "                                                       'created': {'description': 'Creation '\n",
    "                                                                                  'time',\n",
    "                                                                   'example': datetime.datetime(2015, 7, 7, 15, 49, 51, 230000, tzinfo=datetime.timezone(datetime.timedelta(0, 7200))),\n",
    "                                                                   'format': 'date-time',\n",
    "                                                                   'type': 'string'},\n",
    "                                                       'id': {'description': 'Unique '\n",
    "                                                                             'identifier',\n",
    "                                                              'example': '123',\n",
    "                                                              'type': 'string'},\n",
    "                                                       'name': {'description': \"Pet's \"\n",
    "                                                                               'name',\n",
    "                                                                'example': 'Susie',\n",
    "                                                                'maxLength': 100,\n",
    "                                                                'minLength': 1,\n",
    "                                                                'type': 'string'}},\n",
    "                                        'required': ['animal_type',\n",
    "                                                     'name',\n",
    "                                                     'id'],\n",
    "                                        'title': 'Pet',\n",
    "                                        'type': 'object'},\n",
    "                                'corporateAppList': {'example': [{'corporateAppList': [{'appId': 'ruleId1',\n",
    "                                                                                        'appInfo': {'domain': ['*.trendmicro.com'],\n",
    "                                                                                                    'fqdn': ['1000-2000',\n",
    "                                                                                                             '1000-2000'],\n",
    "                                                                                                    'ip': ['192.0.2.1-192.0.2.10',\n",
    "                                                                                                           '192.0.2.11',\n",
    "                                                                                                           '192.0.3.0/24'],\n",
    "                                                                                                    'portType': 'all',\n",
    "                                                                                                    'tcpPort': ['80',\n",
    "                                                                                                                '443'],\n",
    "                                                                                                    'udpPort': ['1000-2000']},\n",
    "                                                                                        'description': 'templateName1',\n",
    "                                                                                        'name': 'templateId',\n",
    "                                                                                        'version': 'ruleName'}]}],\n",
    "                                                     'items': {'properties': {'appId': {'type': 'string'},\n",
    "                                                                              'appInfo': {'properties': {'domain': {'items': {'type': 'string'},\n",
    "                                                                                                                    'type': 'array'},\n",
    "                                                                                                         'fqdn': {'items': {'type': 'string'},\n",
    "                                                                                                                  'type': 'array'},\n",
    "                                                                                                         'ip': {'items': {'type': 'string'},\n",
    "                                                                                                                'type': 'array'},\n",
    "                                                                                                         'portType': {'type': 'string'},\n",
    "                                                                                                         'tcpPort': {'items': {'type': 'string'},\n",
    "                                                                                                                     'type': 'array'},\n",
    "                                                                                                         'udpPort': {'items': {'type': 'string'},\n",
    "                                                                                                                     'type': 'array'}},\n",
    "                                                                                          'type': 'object'},\n",
    "                                                                              'description': {'type': 'string'},\n",
    "                                                                              'name': {'type': 'string'},\n",
    "                                                                              'version': {'type': 'string'}},\n",
    "                                                               'type': 'object'},\n",
    "                                                     'type': 'array'}}},\n",
    "     'example': [{'corporateAppList': [{'appId': 'ruleId1',\n",
    "                                        'appInfo': {'domain': ['*.trendmicro.com'],\n",
    "                                                    'fqdn': ['1000-2000',\n",
    "                                                             '1000-2000'],\n",
    "                                                    'ip': ['192.0.2.1-192.0.2.10',\n",
    "                                                           '192.0.2.11',\n",
    "                                                           '192.0.3.0/24'],\n",
    "                                                    'portType': 'all',\n",
    "                                                    'tcpPort': ['80',\n",
    "                                                                '443'],\n",
    "                                                    'udpPort': ['1000-2000']},\n",
    "                                        'description': 'templateName1',\n",
    "                                        'name': 'templateId',\n",
    "                                        'version': 'ruleName'}]}],\n",
    "     'items': {'properties': {'appId': {'type': 'string'},\n",
    "                              'appInfo': {'properties': {'domain': {'items': {'type': 'string'},\n",
    "                                                                    'type': 'array'},\n",
    "                                                         'fqdn': {'items': {'type': 'string'},\n",
    "                                                                  'type': 'array'},\n",
    "                                                         'ip': {'items': {'type': 'string'},\n",
    "                                                                'type': 'array'},\n",
    "                                                         'portType': {'type': 'string'},\n",
    "                                                         'tcpPort': {'items': {'type': 'string'},\n",
    "                                                                     'type': 'array'},\n",
    "                                                         'udpPort': {'items': {'type': 'string'},\n",
    "                                                                     'type': 'array'}},\n",
    "                                          'type': 'object'},\n",
    "                              'description': {'type': 'string'},\n",
    "                              'name': {'type': 'string'},\n",
    "                              'version': {'type': 'string'}},\n",
    "               'type': 'object'},\n",
    "     'type': 'array',\n",
    "     'x-scope': ['']}\n",
    "\n",
    "On instance:\n",
    "    {'corporateAppList': [{'appId': 'ruleId1',\n",
    "                           'appInfo': {'domain': ['*.trendmicro.com'],\n",
    "                                       'fqdn': ['1000-2000', '1000-2000'],\n",
    "                                       'ip': ['192.0.2.1-192.0.2.10',\n",
    "                                              '192.0.2.11',\n",
    "                                              '192.0.3.0/24'],\n",
    "                                       'portType': 'all',\n",
    "                                       'tcpPort': ['80', '443'],\n",
    "                                       'udpPort': ['1000-2000']},\n",
    "                           'description': 'templateName1',\n",
    "                           'name': 'templateId',\n",
    "                           'version': 'ruleName'}]}\n",
    "{\"level\": \"ERROR\", \"message\": {\"detail\": \"{'corporateAppList': [{'appId': 'ruleId1', 'appInfo': {'domain': ['*.trendmicro.com'], 'fqdn': ['1000-2000', '1000-2000'], 'ip': ['192.0.2.1-192.0.2.10', '192.0.2.11', '192.0.3.0/24'], 'portType': 'all', 'tcpPort': ['80', '443'], 'udpPort': ['1000-2000']}, 'description': 'templateName1', 'name': 'templateId', 'version': 'ruleName'}]} is not of type 'array'\\n\\nFailed validating 'type' in schema:\\n    {'components': {'parameters': {'pet_id': {'description': \\\"Pet's Unique \\\"\\n                                                             'identifier',\\n                                              'explode': False,\\n                                              'in': 'path',\\n                                              'name': 'pet_id',\\n                                              'required': True,\\n                                              'schema': {'pattern': '^[a-zA-Z0-9-]+$',\\n                                                         'type': 'string'},\\n                                              'style': 'simple'}},\\n                    'schemas': {'ErrrorResponse': {'example': {'error_code': 400,\\n                                                               'message': 'request '\\n                                                                          'error.'},\\n                                                   'properties': {'error_code': {'description': 'Unique '\\n                                                                                                'identifier',\\n                                                                                 'example': 400,\\n                                                                                 'type': 'integer'},\\n                                                                  'message': {'description': 'error '\\n                                                                                             'code '\\n                                                                                             'message',\\n                                                                              'example': 'request '\\n                                                                                         'error.',\\n                                                                              'type': 'string'}},\\n                                                   'required': ['error_code',\\n                                                                'message'],\\n                                                   'title': 'error message',\\n                                                   'type': 'object'},\\n                                'Pet': {'example': {'animal_type': 'cat',\\n                                                    'created': datetime.datetime(2015, 7, 7, 15, 49, 51, 230000, tzinfo=datetime.timezone(datetime.timedelta(0, 7200))),\\n                                                    'id': '123',\\n                                                    'name': 'Susie'},\\n                                        'properties': {'animal_type': {'description': 'Kind '\\n                                                                                      'of '\\n                                                                                      'animal',\\n                                                                       'example': 'cat',\\n                                                                       'minLength': 1,\\n                                                                       'type': 'string'},\\n                                                       'created': {'description': 'Creation '\\n                                                                                  'time',\\n                                                                   'example': datetime.datetime(2015, 7, 7, 15, 49, 51, 230000, tzinfo=datetime.timezone(datetime.timedelta(0, 7200))),\\n                                                                   'format': 'date-time',\\n                                                                   'type': 'string'},\\n                                                       'id': {'description': 'Unique '\\n                                                                             'identifier',\\n                                                              'example': '123',\\n                                                              'type': 'string'},\\n                                                       'name': {'description': \\\"Pet's \\\"\\n                                                                               'name',\\n                                                                'example': 'Susie',\\n                                                                'maxLength': 100,\\n                                                                'minLength': 1,\\n                                                                'type': 'string'}},\\n                                        'required': ['animal_type',\\n                                                     'name',\\n                                                     'id'],\\n                                        'title': 'Pet',\\n                                        'type': 'object'},\\n                                'corporateAppList': {'example': [{'corporateAppList': [{'appId': 'ruleId1',\\n                                                                                        'appInfo': {'domain': ['*.trendmicro.com'],\\n                                                                                                    'fqdn': ['1000-2000',\\n                                                                                                             '1000-2000'],\\n                                                                                                    'ip': ['192.0.2.1-192.0.2.10',\\n                                                                                                           '192.0.2.11',\\n                                                                                                           '192.0.3.0/24'],\\n                                                                                                    'portType': 'all',\\n                                                                                                    'tcpPort': ['80',\\n                                                                                                                '443'],\\n                                                                                                    'udpPort': ['1000-2000']},\\n                                                                                        'description': 'templateName1',\\n                                                                                        'name': 'templateId',\\n                                                                                        'version': 'ruleName'}]}],\\n                                                     'items': {'properties': {'appId': {'type': 'string'},\\n                                                                              'appInfo': {'properties': {'domain': {'items': {'type': 'string'},\\n                                                                                                                    'type': 'array'},\\n                                                                                                         'fqdn': {'items': {'type': 'string'},\\n                                                                                                                  'type': 'array'},\\n                                                                                                         'ip': {'items': {'type': 'string'},\\n                                                                                                                'type': 'array'},\\n                                                                                                         'portType': {'type': 'string'},\\n                                                                                                         'tcpPort': {'items': {'type': 'string'},\\n                                                                                                                     'type': 'array'},\\n                                                                                                         'udpPort': {'items': {'type': 'string'},\\n                                                                                                                     'type': 'array'}},\\n                                                                                          'type': 'object'},\\n                                                                              'description': {'type': 'string'},\\n                                                                              'name': {'type': 'string'},\\n                                                                              'version': {'type': 'string'}},\\n                                                               'type': 'object'},\\n                                                     'type': 'array'}}},\\n     'example': [{'corporateAppList': [{'appId': 'ruleId1',\\n                                        'appInfo': {'domain': ['*.trendmicro.com'],\\n                                                    'fqdn': ['1000-2000',\\n                                                             '1000-2000'],\\n                                                    'ip': ['192.0.2.1-192.0.2.10',\\n                                                           '192.0.2.11',\\n                                                           '192.0.3.0/24'],\\n                                                    'portType': 'all',\\n                                                    'tcpPort': ['80',\\n                                                                '443'],\\n                                                    'udpPort': ['1000-2000']},\\n                                        'description': 'templateName1',\\n                                        'name': 'templateId',\\n                                        'version': 'ruleName'}]}],\\n     'items': {'properties': {'appId': {'type': 'string'},\\n                              'appInfo': {'properties': {'domain': {'items': {'type': 'string'},\\n                                                                    'type': 'array'},\\n                                                         'fqdn': {'items': {'type': 'string'},\\n                                                                  'type': 'array'},\\n                                                         'ip': {'items': {'type': 'string'},\\n                                                                'type': 'array'},\\n                                                         'portType': {'type': 'string'},\\n                                                         'tcpPort': {'items': {'type': 'string'},\\n                                                                     'type': 'array'},\\n                                                         'udpPort': {'items': {'type': 'string'},\\n                                                                     'type': 'array'}},\\n                                          'type': 'object'},\\n                              'description': {'type': 'string'},\\n                              'name': {'type': 'string'},\\n                              'version': {'type': 'string'}},\\n               'type': 'object'},\\n     'type': 'array',\\n     'x-scope': ['']}\\n\\nOn instance:\\n    {'corporateAppList': [{'appId': 'ruleId1',\\n                           'appInfo': {'domain': ['*.trendmicro.com'],\\n                                       'fqdn': ['1000-2000', '1000-2000'],\\n                                       'ip': ['192.0.2.1-192.0.2.10',\\n                                              '192.0.2.11',\\n                                              '192.0.3.0/24'],\\n                                       'portType': 'all',\\n                                       'tcpPort': ['80', '443'],\\n                                       'udpPort': ['1000-2000']},\\n                           'description': 'templateName1',\\n                           'name': 'templateId',\\n                           'version': 'ruleName'}]}\", \"companyId\": null, \"connectorId\": null, \"url\": \"http://127.0.0.1:5000/interval/v1.0/pets/0\", \"method\": \"POST\", \"id\": \"<greenlet.greenlet object at 0x7fa379ca13d8 (otid=0x7fa37a1f6d38) current active started main>\", \"hostName\": \"nj-bowen-yu\"}, \"timestamp\": \"2021-06-01T17:48:29.913761+08:00\", \"traceId\": \"0edafcec-4a20-44b8-823f-279ce06ed4f6\", \"taskId\": \"3e757a61-0c7d-42ae-8c06-63a6f62d00db\", \"type\": \"trace\", \"serviceName\": \"szn\", \"componentName\": \"{{cookiecutter.repo_name}}\"})"
   ]
  },
  {
   "cell_type": "code",
   "execution_count": 3,
   "metadata": {},
   "outputs": [
    {
     "name": "stdout",
     "output_type": "stream",
     "text": [
      "{'corporateAppList': [{'appId': 'ruleId1', 'appInfo': {'domain': ['*.trendmicro.com'], 'fqdn': ['1000-2000', '1000-2000'], 'ip': ['192.0.2.1-192.0.2.10', '192.0.2.11', '192.0.3.0/24'], 'portType': 'all', 'tcpPort': ['80', '443'], 'udpPort': ['1000-2000']}, 'description': 'templateName1', 'name': 'templateId', 'version': 'ruleName'}]} is not of type 'array'\n",
      "\n",
      "Failed validating 'type' in schema:\n",
      "    {'components': {'parameters': {'pet_id': {'description': \"Pet's Unique \"\n",
      "                                                             'identifier',\n",
      "                                              'explode': False,\n",
      "                                              'in': 'path',\n",
      "                                              'name': 'pet_id',\n",
      "                                              'required': True,\n",
      "                                              'schema': {'pattern': '^[a-zA-Z0-9-]+$',\n",
      "                                                         'type': 'string'},\n",
      "                                              'style': 'simple'}},\n",
      "                    'schemas': {'ErrrorResponse': {'example': {'error_code': 400,\n",
      "                                                               'message': 'request '\n",
      "                                                                          'error.'},\n",
      "                                                   'properties': {'error_code': {'description': 'Unique '\n",
      "                                                                                                'identifier',\n",
      "                                                                                 'example': 400,\n",
      "                                                                                 'type': 'integer'},\n",
      "                                                                  'message': {'description': 'error '\n",
      "                                                                                             'code '\n",
      "                                                                                             'message',\n",
      "                                                                              'example': 'request '\n",
      "                                                                                         'error.',\n",
      "                                                                              'type': 'string'}},\n",
      "                                                   'required': ['error_code',\n",
      "                                                                'message'],\n",
      "                                                   'title': 'error message',\n",
      "                                                   'type': 'object'},\n",
      "                                'Pet': {'example': {'animal_type': 'cat',\n",
      "                                                    'created': datetime.datetime(2015, 7, 7, 15, 49, 51, 230000, tzinfo=datetime.timezone(datetime.timedelta(0, 7200))),\n",
      "                                                    'id': '123',\n",
      "                                                    'name': 'Susie'},\n",
      "                                        'properties': {'animal_type': {'description': 'Kind '\n",
      "                                                                                      'of '\n",
      "                                                                                      'animal',\n",
      "                                                                       'example': 'cat',\n",
      "                                                                       'minLength': 1,\n",
      "                                                                       'type': 'string'},\n",
      "                                                       'created': {'description': 'Creation '\n",
      "                                                                                  'time',\n",
      "                                                                   'example': datetime.datetime(2015, 7, 7, 15, 49, 51, 230000, tzinfo=datetime.timezone(datetime.timedelta(0, 7200))),\n",
      "                                                                   'format': 'date-time',\n",
      "                                                                   'type': 'string'},\n",
      "                                                       'id': {'description': 'Unique '\n",
      "                                                                             'identifier',\n",
      "                                                              'example': '123',\n",
      "                                                              'type': 'string'},\n",
      "                                                       'name': {'description': \"Pet's \"\n",
      "                                                                               'name',\n",
      "                                                                'example': 'Susie',\n",
      "                                                                'maxLength': 100,\n",
      "                                                                'minLength': 1,\n",
      "                                                                'type': 'string'}},\n",
      "                                        'required': ['animal_type',\n",
      "                                                     'name',\n",
      "                                                     'id'],\n",
      "                                        'title': 'Pet',\n",
      "                                        'type': 'object'},\n",
      "                                'corporateAppList': {'example': [{'corporateAppList': [{'appId': 'ruleId1',\n",
      "                                                                                        'appInfo': {'domain': ['*.trendmicro.com'],\n",
      "                                                                                                    'fqdn': ['1000-2000',\n",
      "                                                                                                             '1000-2000'],\n",
      "                                                                                                    'ip': ['192.0.2.1-192.0.2.10',\n",
      "                                                                                                           '192.0.2.11',\n",
      "                                                                                                           '192.0.3.0/24'],\n",
      "                                                                                                    'portType': 'all',\n",
      "                                                                                                    'tcpPort': ['80',\n",
      "                                                                                                                '443'],\n",
      "                                                                                                    'udpPort': ['1000-2000']},\n",
      "                                                                                        'description': 'templateName1',\n",
      "                                                                                        'name': 'templateId',\n",
      "                                                                                        'version': 'ruleName'}]}],\n",
      "                                                     'items': {'properties': {'appId': {'type': 'string'},\n",
      "                                                                              'appInfo': {'properties': {'domain': {'items': {'type': 'string'},\n",
      "                                                                                                                    'type': 'array'},\n",
      "                                                                                                         'fqdn': {'items': {'type': 'string'},\n",
      "                                                                                                                  'type': 'array'},\n",
      "                                                                                                         'ip': {'items': {'type': 'string'},\n",
      "                                                                                                                'type': 'array'},\n",
      "                                                                                                         'portType': {'type': 'string'},\n",
      "                                                                                                         'tcpPort': {'items': {'type': 'string'},\n",
      "                                                                                                                     'type': 'array'},\n",
      "                                                                                                         'udpPort': {'items': {'type': 'string'},\n",
      "                                                                                                                     'type': 'array'}},\n",
      "                                                                                          'type': 'object'},\n",
      "                                                                              'description': {'type': 'string'},\n",
      "                                                                              'name': {'type': 'string'},\n",
      "                                                                              'version': {'type': 'string'}},\n",
      "                                                               'type': 'object'},\n",
      "                                                     'type': 'array'}}},\n",
      "     'example': [{'corporateAppList': [{'appId': 'ruleId1',\n",
      "                                        'appInfo': {'domain': ['*.trendmicro.com'],\n",
      "                                                    'fqdn': ['1000-2000',\n",
      "                                                             '1000-2000'],\n",
      "                                                    'ip': ['192.0.2.1-192.0.2.10',\n",
      "                                                           '192.0.2.11',\n",
      "                                                           '192.0.3.0/24'],\n",
      "                                                    'portType': 'all',\n",
      "                                                    'tcpPort': ['80',\n",
      "                                                                '443'],\n",
      "                                                    'udpPort': ['1000-2000']},\n",
      "                                        'description': 'templateName1',\n",
      "                                        'name': 'templateId',\n",
      "                                        'version': 'ruleName'}]}],\n",
      "     'items': {'properties': {'appId': {'type': 'string'},\n",
      "                              'appInfo': {'properties': {'domain': {'items': {'type': 'string'},\n",
      "                                                                    'type': 'array'},\n",
      "                                                         'fqdn': {'items': {'type': 'string'},\n",
      "                                                                  'type': 'array'},\n",
      "                                                         'ip': {'items': {'type': 'string'},\n",
      "                                                                'type': 'array'},\n",
      "                                                         'portType': {'type': 'string'},\n",
      "                                                         'tcpPort': {'items': {'type': 'string'},\n",
      "                                                                     'type': 'array'},\n",
      "                                                         'udpPort': {'items': {'type': 'string'},\n",
      "                                                                     'type': 'array'}},\n",
      "                                          'type': 'object'},\n",
      "                              'description': {'type': 'string'},\n",
      "                              'name': {'type': 'string'},\n",
      "                              'version': {'type': 'string'}},\n",
      "               'type': 'object'},\n",
      "     'type': 'array',\n",
      "     'x-scope': ['']}\n",
      "\n",
      "On instance:\n",
      "    {'corporateAppList': [{'appId': 'ruleId1',\n",
      "                           'appInfo': {'domain': ['*.trendmicro.com'],\n",
      "                                       'fqdn': ['1000-2000', '1000-2000'],\n",
      "                                       'ip': ['192.0.2.1-192.0.2.10',\n",
      "                                              '192.0.2.11',\n",
      "                                              '192.0.3.0/24'],\n",
      "                                       'portType': 'all',\n",
      "                                       'tcpPort': ['80', '443'],\n",
      "                                       'udpPort': ['1000-2000']},\n",
      "                           'description': 'templateName1',\n",
      "                           'name': 'templateId',\n",
      "                           'version': 'ruleName'}]}\n"
     ]
    }
   ],
   "source": [
    "print(\"{'corporateAppList': [{'appId': 'ruleId1', 'appInfo': {'domain': ['*.trendmicro.com'], 'fqdn': ['1000-2000', '1000-2000'], 'ip': ['192.0.2.1-192.0.2.10', '192.0.2.11', '192.0.3.0/24'], 'portType': 'all', 'tcpPort': ['80', '443'], 'udpPort': ['1000-2000']}, 'description': 'templateName1', 'name': 'templateId', 'version': 'ruleName'}]} is not of type 'array'\\n\\nFailed validating 'type' in schema:\\n    {'components': {'parameters': {'pet_id': {'description': \\\"Pet's Unique \\\"\\n                                                             'identifier',\\n                                              'explode': False,\\n                                              'in': 'path',\\n                                              'name': 'pet_id',\\n                                              'required': True,\\n                                              'schema': {'pattern': '^[a-zA-Z0-9-]+$',\\n                                                         'type': 'string'},\\n                                              'style': 'simple'}},\\n                    'schemas': {'ErrrorResponse': {'example': {'error_code': 400,\\n                                                               'message': 'request '\\n                                                                          'error.'},\\n                                                   'properties': {'error_code': {'description': 'Unique '\\n                                                                                                'identifier',\\n                                                                                 'example': 400,\\n                                                                                 'type': 'integer'},\\n                                                                  'message': {'description': 'error '\\n                                                                                             'code '\\n                                                                                             'message',\\n                                                                              'example': 'request '\\n                                                                                         'error.',\\n                                                                              'type': 'string'}},\\n                                                   'required': ['error_code',\\n                                                                'message'],\\n                                                   'title': 'error message',\\n                                                   'type': 'object'},\\n                                'Pet': {'example': {'animal_type': 'cat',\\n                                                    'created': datetime.datetime(2015, 7, 7, 15, 49, 51, 230000, tzinfo=datetime.timezone(datetime.timedelta(0, 7200))),\\n                                                    'id': '123',\\n                                                    'name': 'Susie'},\\n                                        'properties': {'animal_type': {'description': 'Kind '\\n                                                                                      'of '\\n                                                                                      'animal',\\n                                                                       'example': 'cat',\\n                                                                       'minLength': 1,\\n                                                                       'type': 'string'},\\n                                                       'created': {'description': 'Creation '\\n                                                                                  'time',\\n                                                                   'example': datetime.datetime(2015, 7, 7, 15, 49, 51, 230000, tzinfo=datetime.timezone(datetime.timedelta(0, 7200))),\\n                                                                   'format': 'date-time',\\n                                                                   'type': 'string'},\\n                                                       'id': {'description': 'Unique '\\n                                                                             'identifier',\\n                                                              'example': '123',\\n                                                              'type': 'string'},\\n                                                       'name': {'description': \\\"Pet's \\\"\\n                                                                               'name',\\n                                                                'example': 'Susie',\\n                                                                'maxLength': 100,\\n                                                                'minLength': 1,\\n                                                                'type': 'string'}},\\n                                        'required': ['animal_type',\\n                                                     'name',\\n                                                     'id'],\\n                                        'title': 'Pet',\\n                                        'type': 'object'},\\n                                'corporateAppList': {'example': [{'corporateAppList': [{'appId': 'ruleId1',\\n                                                                                        'appInfo': {'domain': ['*.trendmicro.com'],\\n                                                                                                    'fqdn': ['1000-2000',\\n                                                                                                             '1000-2000'],\\n                                                                                                    'ip': ['192.0.2.1-192.0.2.10',\\n                                                                                                           '192.0.2.11',\\n                                                                                                           '192.0.3.0/24'],\\n                                                                                                    'portType': 'all',\\n                                                                                                    'tcpPort': ['80',\\n                                                                                                                '443'],\\n                                                                                                    'udpPort': ['1000-2000']},\\n                                                                                        'description': 'templateName1',\\n                                                                                        'name': 'templateId',\\n                                                                                        'version': 'ruleName'}]}],\\n                                                     'items': {'properties': {'appId': {'type': 'string'},\\n                                                                              'appInfo': {'properties': {'domain': {'items': {'type': 'string'},\\n                                                                                                                    'type': 'array'},\\n                                                                                                         'fqdn': {'items': {'type': 'string'},\\n                                                                                                                  'type': 'array'},\\n                                                                                                         'ip': {'items': {'type': 'string'},\\n                                                                                                                'type': 'array'},\\n                                                                                                         'portType': {'type': 'string'},\\n                                                                                                         'tcpPort': {'items': {'type': 'string'},\\n                                                                                                                     'type': 'array'},\\n                                                                                                         'udpPort': {'items': {'type': 'string'},\\n                                                                                                                     'type': 'array'}},\\n                                                                                          'type': 'object'},\\n                                                                              'description': {'type': 'string'},\\n                                                                              'name': {'type': 'string'},\\n                                                                              'version': {'type': 'string'}},\\n                                                               'type': 'object'},\\n                                                     'type': 'array'}}},\\n     'example': [{'corporateAppList': [{'appId': 'ruleId1',\\n                                        'appInfo': {'domain': ['*.trendmicro.com'],\\n                                                    'fqdn': ['1000-2000',\\n                                                             '1000-2000'],\\n                                                    'ip': ['192.0.2.1-192.0.2.10',\\n                                                           '192.0.2.11',\\n                                                           '192.0.3.0/24'],\\n                                                    'portType': 'all',\\n                                                    'tcpPort': ['80',\\n                                                                '443'],\\n                                                    'udpPort': ['1000-2000']},\\n                                        'description': 'templateName1',\\n                                        'name': 'templateId',\\n                                        'version': 'ruleName'}]}],\\n     'items': {'properties': {'appId': {'type': 'string'},\\n                              'appInfo': {'properties': {'domain': {'items': {'type': 'string'},\\n                                                                    'type': 'array'},\\n                                                         'fqdn': {'items': {'type': 'string'},\\n                                                                  'type': 'array'},\\n                                                         'ip': {'items': {'type': 'string'},\\n                                                                'type': 'array'},\\n                                                         'portType': {'type': 'string'},\\n                                                         'tcpPort': {'items': {'type': 'string'},\\n                                                                     'type': 'array'},\\n                                                         'udpPort': {'items': {'type': 'string'},\\n                                                                     'type': 'array'}},\\n                                          'type': 'object'},\\n                              'description': {'type': 'string'},\\n                              'name': {'type': 'string'},\\n                              'version': {'type': 'string'}},\\n               'type': 'object'},\\n     'type': 'array',\\n     'x-scope': ['']}\\n\\nOn instance:\\n    {'corporateAppList': [{'appId': 'ruleId1',\\n                           'appInfo': {'domain': ['*.trendmicro.com'],\\n                                       'fqdn': ['1000-2000', '1000-2000'],\\n                                       'ip': ['192.0.2.1-192.0.2.10',\\n                                              '192.0.2.11',\\n                                              '192.0.3.0/24'],\\n                                       'portType': 'all',\\n                                       'tcpPort': ['80', '443'],\\n                                       'udpPort': ['1000-2000']},\\n                           'description': 'templateName1',\\n                           'name': 'templateId',\\n                           'version': 'ruleName'}]}\",\n",
    ")"
   ]
  }
 ],
 "metadata": {
  "kernelspec": {
   "display_name": "Python 3.6.9 64-bit",
   "name": "python369jvsc74a57bd031f2aee4e71d21fbe5cf8b01ff0e069b9275f58929596ceb00d14d90e3e16cd6"
  },
  "language_info": {
   "codemirror_mode": {
    "name": "ipython",
    "version": 3
   },
   "file_extension": ".py",
   "mimetype": "text/x-python",
   "name": "python",
   "nbconvert_exporter": "python",
   "pygments_lexer": "ipython3",
   "version": "3.6.9"
  },
  "metadata": {
   "interpreter": {
    "hash": "31f2aee4e71d21fbe5cf8b01ff0e069b9275f58929596ceb00d14d90e3e16cd6"
   }
  },
  "orig_nbformat": 2
 },
 "nbformat": 4,
 "nbformat_minor": 2
}