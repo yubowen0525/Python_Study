{
 "cells": [
  {
   "cell_type": "markdown",
   "metadata": {},
   "source": [
    "---\n",
    "\n",
    "## collections.defaultdict"
   ]
  },
  {
   "cell_type": "code",
   "execution_count": 1,
   "metadata": {},
   "outputs": [],
   "source": [
    "import collections"
   ]
  },
  {
   "cell_type": "code",
   "execution_count": 17,
   "metadata": {},
   "outputs": [],
   "source": [
    "my_dict = collections.defaultdict(list)"
   ]
  },
  {
   "cell_type": "code",
   "execution_count": 11,
   "metadata": {},
   "outputs": [
    {
     "data": {
      "text/plain": "['__repr__',\n '__getattribute__',\n '__init__',\n '__missing__',\n 'copy',\n '__copy__',\n '__reduce__',\n 'default_factory',\n '__doc__',\n '__hash__',\n '__lt__',\n '__le__',\n '__eq__',\n '__ne__',\n '__gt__',\n '__ge__',\n '__iter__',\n '__len__',\n '__getitem__',\n '__setitem__',\n '__delitem__',\n '__contains__',\n '__new__',\n '__sizeof__',\n 'get',\n 'setdefault',\n 'pop',\n 'popitem',\n 'keys',\n 'items',\n 'values',\n 'update',\n 'fromkeys',\n 'clear',\n '__reversed__',\n '__str__',\n '__setattr__',\n '__delattr__',\n '__reduce_ex__',\n '__subclasshook__',\n '__init_subclass__',\n '__format__',\n '__dir__',\n '__class__']"
     },
     "execution_count": 11,
     "metadata": {},
     "output_type": "execute_result"
    }
   ],
   "source": [
    "my_dict.__dir__()"
   ]
  },
  {
   "cell_type": "code",
   "execution_count": 12,
   "metadata": {},
   "outputs": [
    {
     "data": {
      "text/plain": "[]"
     },
     "execution_count": 12,
     "metadata": {},
     "output_type": "execute_result"
    }
   ],
   "source": [
    "my_dict.default_factory()"
   ]
  },
  {
   "cell_type": "markdown",
   "metadata": {},
   "source": [
    "---\n",
    "\n",
    "## collections.ChainMap\n",
    "\n",
    "将数个dict整合在一起"
   ]
  },
  {
   "cell_type": "code",
   "execution_count": 19,
   "metadata": {},
   "outputs": [],
   "source": [
    "import builtins\n",
    "from collections import ChainMap\n",
    "pylookup = ChainMap(locals(), globals(), vars(builtins))"
   ]
  },
  {
   "cell_type": "code",
   "execution_count": 22,
   "metadata": {},
   "outputs": [
    {
     "data": {
      "text/plain": "ChainMap({'__name__': '__main__', '__doc__': 'Automatically created module for IPython interactive environment', '__package__': None, '__loader__': None, '__spec__': None, '__builtin__': <module 'builtins' (built-in)>, '__builtins__': <module 'builtins' (built-in)>, '_ih': ['', 'import collections', 'dict = collections.defaultdict(list)', 'dict.__dir__()', 'my_dict = collections.defaultdict(list)', 'dict.__dir__()', 'my_dict.__dir__()', 'my_dict.default_factory()', 'my_dict = collections.defaultdict(list(1,2,3))', 'my_dict = collections.defaultdict(list))', 'my_dict = collections.defaultdict(list)', 'my_dict.__dir__()', 'my_dict.default_factory()', 'a = list(1,2,3)', 'a = [1,2,3', 'a = [1,2,3]', 'my_dict = collections.defaultdict(a)', 'my_dict = collections.defaultdict(list)', 'import builtins\\npylookup = ChainMap(locals(), globals(), vars(builtins))', 'import builtins\\nfrom collections import ChainMap\\npylookup = ChainMap(locals(), globals(), vars(builtins))', 'pylookup', \"pylookup['my_dict']\", 'pylookup'], '_oh': {3: ['__repr__', '__getattribute__', '__init__', '__missing__', 'copy', '__copy__', '__reduce__', 'default_factory', '__doc__', '__hash__', '__lt__', '__le__', '__eq__', '__ne__', '__gt__', '__ge__', '__iter__', '__len__', '__getitem__', '__setitem__', '__delitem__', '__contains__', '__new__', '__sizeof__', 'get', 'setdefault', 'pop', 'popitem', 'keys', 'items', 'values', 'update', 'fromkeys', 'clear', '__reversed__', '__str__', '__setattr__', '__delattr__', '__reduce_ex__', '__subclasshook__', '__init_subclass__', '__format__', '__dir__', '__class__'], 5: ['__repr__', '__getattribute__', '__init__', '__missing__', 'copy', '__copy__', '__reduce__', 'default_factory', '__doc__', '__hash__', '__lt__', '__le__', '__eq__', '__ne__', '__gt__', '__ge__', '__iter__', '__len__', '__getitem__', '__setitem__', '__delitem__', '__contains__', '__new__', '__sizeof__', 'get', 'setdefault', 'pop', 'popitem', 'keys', 'items', 'values', 'update', 'fromkeys', 'clear', '__reversed__', '__str__', '__setattr__', '__delattr__', '__reduce_ex__', '__subclasshook__', '__init_subclass__', '__format__', '__dir__', '__class__'], 6: ['__repr__', '__getattribute__', '__init__', '__missing__', 'copy', '__copy__', '__reduce__', 'default_factory', '__doc__', '__hash__', '__lt__', '__le__', '__eq__', '__ne__', '__gt__', '__ge__', '__iter__', '__len__', '__getitem__', '__setitem__', '__delitem__', '__contains__', '__new__', '__sizeof__', 'get', 'setdefault', 'pop', 'popitem', 'keys', 'items', 'values', 'update', 'fromkeys', 'clear', '__reversed__', '__str__', '__setattr__', '__delattr__', '__reduce_ex__', '__subclasshook__', '__init_subclass__', '__format__', '__dir__', '__class__'], 7: [], 11: ['__repr__', '__getattribute__', '__init__', '__missing__', 'copy', '__copy__', '__reduce__', 'default_factory', '__doc__', '__hash__', '__lt__', '__le__', '__eq__', '__ne__', '__gt__', '__ge__', '__iter__', '__len__', '__getitem__', '__setitem__', '__delitem__', '__contains__', '__new__', '__sizeof__', 'get', 'setdefault', 'pop', 'popitem', 'keys', 'items', 'values', 'update', 'fromkeys', 'clear', '__reversed__', '__str__', '__setattr__', '__delattr__', '__reduce_ex__', '__subclasshook__', '__init_subclass__', '__format__', '__dir__', '__class__'], 12: [], 20: ..., 21: defaultdict(<class 'list'>, {})}, '_dh': ['/', '/Users/bowen_yu/Public/Python_Study/流畅的Python/第三章'], 'In': ['', 'import collections', 'dict = collections.defaultdict(list)', 'dict.__dir__()', 'my_dict = collections.defaultdict(list)', 'dict.__dir__()', 'my_dict.__dir__()', 'my_dict.default_factory()', 'my_dict = collections.defaultdict(list(1,2,3))', 'my_dict = collections.defaultdict(list))', 'my_dict = collections.defaultdict(list)', 'my_dict.__dir__()', 'my_dict.default_factory()', 'a = list(1,2,3)', 'a = [1,2,3', 'a = [1,2,3]', 'my_dict = collections.defaultdict(a)', 'my_dict = collections.defaultdict(list)', 'import builtins\\npylookup = ChainMap(locals(), globals(), vars(builtins))', 'import builtins\\nfrom collections import ChainMap\\npylookup = ChainMap(locals(), globals(), vars(builtins))', 'pylookup', \"pylookup['my_dict']\", 'pylookup'], 'Out': {3: ['__repr__', '__getattribute__', '__init__', '__missing__', 'copy', '__copy__', '__reduce__', 'default_factory', '__doc__', '__hash__', '__lt__', '__le__', '__eq__', '__ne__', '__gt__', '__ge__', '__iter__', '__len__', '__getitem__', '__setitem__', '__delitem__', '__contains__', '__new__', '__sizeof__', 'get', 'setdefault', 'pop', 'popitem', 'keys', 'items', 'values', 'update', 'fromkeys', 'clear', '__reversed__', '__str__', '__setattr__', '__delattr__', '__reduce_ex__', '__subclasshook__', '__init_subclass__', '__format__', '__dir__', '__class__'], 5: ['__repr__', '__getattribute__', '__init__', '__missing__', 'copy', '__copy__', '__reduce__', 'default_factory', '__doc__', '__hash__', '__lt__', '__le__', '__eq__', '__ne__', '__gt__', '__ge__', '__iter__', '__len__', '__getitem__', '__setitem__', '__delitem__', '__contains__', '__new__', '__sizeof__', 'get', 'setdefault', 'pop', 'popitem', 'keys', 'items', 'values', 'update', 'fromkeys', 'clear', '__reversed__', '__str__', '__setattr__', '__delattr__', '__reduce_ex__', '__subclasshook__', '__init_subclass__', '__format__', '__dir__', '__class__'], 6: ['__repr__', '__getattribute__', '__init__', '__missing__', 'copy', '__copy__', '__reduce__', 'default_factory', '__doc__', '__hash__', '__lt__', '__le__', '__eq__', '__ne__', '__gt__', '__ge__', '__iter__', '__len__', '__getitem__', '__setitem__', '__delitem__', '__contains__', '__new__', '__sizeof__', 'get', 'setdefault', 'pop', 'popitem', 'keys', 'items', 'values', 'update', 'fromkeys', 'clear', '__reversed__', '__str__', '__setattr__', '__delattr__', '__reduce_ex__', '__subclasshook__', '__init_subclass__', '__format__', '__dir__', '__class__'], 7: [], 11: ['__repr__', '__getattribute__', '__init__', '__missing__', 'copy', '__copy__', '__reduce__', 'default_factory', '__doc__', '__hash__', '__lt__', '__le__', '__eq__', '__ne__', '__gt__', '__ge__', '__iter__', '__len__', '__getitem__', '__setitem__', '__delitem__', '__contains__', '__new__', '__sizeof__', 'get', 'setdefault', 'pop', 'popitem', 'keys', 'items', 'values', 'update', 'fromkeys', 'clear', '__reversed__', '__str__', '__setattr__', '__delattr__', '__reduce_ex__', '__subclasshook__', '__init_subclass__', '__format__', '__dir__', '__class__'], 12: [], 20: ..., 21: defaultdict(<class 'list'>, {})}, 'get_ipython': <bound method InteractiveShell.get_ipython of <ipykernel.zmqshell.ZMQInteractiveShell object at 0x1053fe730>>, 'exit': <IPython.core.autocall.ZMQExitAutocall object at 0x105465580>, 'quit': <IPython.core.autocall.ZMQExitAutocall object at 0x105465580>, '_': defaultdict(<class 'list'>, {}), '__': ..., '___': [], 'sys': <module 'sys' (built-in)>, 'os': <module 'os' from '/Library/Developer/CommandLineTools/Library/Frameworks/Python3.framework/Versions/3.8/lib/python3.8/os.py'>, '_i': \"pylookup['my_dict']\", '_ii': 'pylookup', '_iii': 'import builtins\\nfrom collections import ChainMap\\npylookup = ChainMap(locals(), globals(), vars(builtins))', '_i1': 'import collections', 'collections': <module 'collections' from '/Library/Developer/CommandLineTools/Library/Frameworks/Python3.framework/Versions/3.8/lib/python3.8/collections/__init__.py'>, '_i2': 'dict = collections.defaultdict(list)', 'dict': defaultdict(<class 'list'>, {}), '_i3': 'dict.__dir__()', '_3': ['__repr__', '__getattribute__', '__init__', '__missing__', 'copy', '__copy__', '__reduce__', 'default_factory', '__doc__', '__hash__', '__lt__', '__le__', '__eq__', '__ne__', '__gt__', '__ge__', '__iter__', '__len__', '__getitem__', '__setitem__', '__delitem__', '__contains__', '__new__', '__sizeof__', 'get', 'setdefault', 'pop', 'popitem', 'keys', 'items', 'values', 'update', 'fromkeys', 'clear', '__reversed__', '__str__', '__setattr__', '__delattr__', '__reduce_ex__', '__subclasshook__', '__init_subclass__', '__format__', '__dir__', '__class__'], '_i4': 'my_dict = collections.defaultdict(list)', 'my_dict': defaultdict(<class 'list'>, {}), '_i5': 'dict.__dir__()', '_5': ['__repr__', '__getattribute__', '__init__', '__missing__', 'copy', '__copy__', '__reduce__', 'default_factory', '__doc__', '__hash__', '__lt__', '__le__', '__eq__', '__ne__', '__gt__', '__ge__', '__iter__', '__len__', '__getitem__', '__setitem__', '__delitem__', '__contains__', '__new__', '__sizeof__', 'get', 'setdefault', 'pop', 'popitem', 'keys', 'items', 'values', 'update', 'fromkeys', 'clear', '__reversed__', '__str__', '__setattr__', '__delattr__', '__reduce_ex__', '__subclasshook__', '__init_subclass__', '__format__', '__dir__', '__class__'], '_i6': 'my_dict.__dir__()', '_6': ['__repr__', '__getattribute__', '__init__', '__missing__', 'copy', '__copy__', '__reduce__', 'default_factory', '__doc__', '__hash__', '__lt__', '__le__', '__eq__', '__ne__', '__gt__', '__ge__', '__iter__', '__len__', '__getitem__', '__setitem__', '__delitem__', '__contains__', '__new__', '__sizeof__', 'get', 'setdefault', 'pop', 'popitem', 'keys', 'items', 'values', 'update', 'fromkeys', 'clear', '__reversed__', '__str__', '__setattr__', '__delattr__', '__reduce_ex__', '__subclasshook__', '__init_subclass__', '__format__', '__dir__', '__class__'], '_i7': 'my_dict.default_factory()', '_7': [], '_i8': 'my_dict = collections.defaultdict(list(1,2,3))', '_i9': 'my_dict = collections.defaultdict(list))', '_i10': 'my_dict = collections.defaultdict(list)', '_i11': 'my_dict.__dir__()', '_11': ['__repr__', '__getattribute__', '__init__', '__missing__', 'copy', '__copy__', '__reduce__', 'default_factory', '__doc__', '__hash__', '__lt__', '__le__', '__eq__', '__ne__', '__gt__', '__ge__', '__iter__', '__len__', '__getitem__', '__setitem__', '__delitem__', '__contains__', '__new__', '__sizeof__', 'get', 'setdefault', 'pop', 'popitem', 'keys', 'items', 'values', 'update', 'fromkeys', 'clear', '__reversed__', '__str__', '__setattr__', '__delattr__', '__reduce_ex__', '__subclasshook__', '__init_subclass__', '__format__', '__dir__', '__class__'], '_i12': 'my_dict.default_factory()', '_12': [], '_i13': 'a = list(1,2,3)', '_i14': 'a = [1,2,3', '_i15': 'a = [1,2,3]', 'a': [1, 2, 3], '_i16': 'my_dict = collections.defaultdict(a)', '_i17': 'my_dict = collections.defaultdict(list)', '_i18': 'import builtins\\npylookup = ChainMap(locals(), globals(), vars(builtins))', 'builtins': <module 'builtins' (built-in)>, '_i19': 'import builtins\\nfrom collections import ChainMap\\npylookup = ChainMap(locals(), globals(), vars(builtins))', 'ChainMap': <class 'collections.ChainMap'>, 'pylookup': ..., '_i20': 'pylookup', '_20': ..., '_i21': \"pylookup['my_dict']\", '_21': defaultdict(<class 'list'>, {}), '_i22': 'pylookup'}, {'__name__': '__main__', '__doc__': 'Automatically created module for IPython interactive environment', '__package__': None, '__loader__': None, '__spec__': None, '__builtin__': <module 'builtins' (built-in)>, '__builtins__': <module 'builtins' (built-in)>, '_ih': ['', 'import collections', 'dict = collections.defaultdict(list)', 'dict.__dir__()', 'my_dict = collections.defaultdict(list)', 'dict.__dir__()', 'my_dict.__dir__()', 'my_dict.default_factory()', 'my_dict = collections.defaultdict(list(1,2,3))', 'my_dict = collections.defaultdict(list))', 'my_dict = collections.defaultdict(list)', 'my_dict.__dir__()', 'my_dict.default_factory()', 'a = list(1,2,3)', 'a = [1,2,3', 'a = [1,2,3]', 'my_dict = collections.defaultdict(a)', 'my_dict = collections.defaultdict(list)', 'import builtins\\npylookup = ChainMap(locals(), globals(), vars(builtins))', 'import builtins\\nfrom collections import ChainMap\\npylookup = ChainMap(locals(), globals(), vars(builtins))', 'pylookup', \"pylookup['my_dict']\", 'pylookup'], '_oh': {3: ['__repr__', '__getattribute__', '__init__', '__missing__', 'copy', '__copy__', '__reduce__', 'default_factory', '__doc__', '__hash__', '__lt__', '__le__', '__eq__', '__ne__', '__gt__', '__ge__', '__iter__', '__len__', '__getitem__', '__setitem__', '__delitem__', '__contains__', '__new__', '__sizeof__', 'get', 'setdefault', 'pop', 'popitem', 'keys', 'items', 'values', 'update', 'fromkeys', 'clear', '__reversed__', '__str__', '__setattr__', '__delattr__', '__reduce_ex__', '__subclasshook__', '__init_subclass__', '__format__', '__dir__', '__class__'], 5: ['__repr__', '__getattribute__', '__init__', '__missing__', 'copy', '__copy__', '__reduce__', 'default_factory', '__doc__', '__hash__', '__lt__', '__le__', '__eq__', '__ne__', '__gt__', '__ge__', '__iter__', '__len__', '__getitem__', '__setitem__', '__delitem__', '__contains__', '__new__', '__sizeof__', 'get', 'setdefault', 'pop', 'popitem', 'keys', 'items', 'values', 'update', 'fromkeys', 'clear', '__reversed__', '__str__', '__setattr__', '__delattr__', '__reduce_ex__', '__subclasshook__', '__init_subclass__', '__format__', '__dir__', '__class__'], 6: ['__repr__', '__getattribute__', '__init__', '__missing__', 'copy', '__copy__', '__reduce__', 'default_factory', '__doc__', '__hash__', '__lt__', '__le__', '__eq__', '__ne__', '__gt__', '__ge__', '__iter__', '__len__', '__getitem__', '__setitem__', '__delitem__', '__contains__', '__new__', '__sizeof__', 'get', 'setdefault', 'pop', 'popitem', 'keys', 'items', 'values', 'update', 'fromkeys', 'clear', '__reversed__', '__str__', '__setattr__', '__delattr__', '__reduce_ex__', '__subclasshook__', '__init_subclass__', '__format__', '__dir__', '__class__'], 7: [], 11: ['__repr__', '__getattribute__', '__init__', '__missing__', 'copy', '__copy__', '__reduce__', 'default_factory', '__doc__', '__hash__', '__lt__', '__le__', '__eq__', '__ne__', '__gt__', '__ge__', '__iter__', '__len__', '__getitem__', '__setitem__', '__delitem__', '__contains__', '__new__', '__sizeof__', 'get', 'setdefault', 'pop', 'popitem', 'keys', 'items', 'values', 'update', 'fromkeys', 'clear', '__reversed__', '__str__', '__setattr__', '__delattr__', '__reduce_ex__', '__subclasshook__', '__init_subclass__', '__format__', '__dir__', '__class__'], 12: [], 20: ..., 21: defaultdict(<class 'list'>, {})}, '_dh': ['/', '/Users/bowen_yu/Public/Python_Study/流畅的Python/第三章'], 'In': ['', 'import collections', 'dict = collections.defaultdict(list)', 'dict.__dir__()', 'my_dict = collections.defaultdict(list)', 'dict.__dir__()', 'my_dict.__dir__()', 'my_dict.default_factory()', 'my_dict = collections.defaultdict(list(1,2,3))', 'my_dict = collections.defaultdict(list))', 'my_dict = collections.defaultdict(list)', 'my_dict.__dir__()', 'my_dict.default_factory()', 'a = list(1,2,3)', 'a = [1,2,3', 'a = [1,2,3]', 'my_dict = collections.defaultdict(a)', 'my_dict = collections.defaultdict(list)', 'import builtins\\npylookup = ChainMap(locals(), globals(), vars(builtins))', 'import builtins\\nfrom collections import ChainMap\\npylookup = ChainMap(locals(), globals(), vars(builtins))', 'pylookup', \"pylookup['my_dict']\", 'pylookup'], 'Out': {3: ['__repr__', '__getattribute__', '__init__', '__missing__', 'copy', '__copy__', '__reduce__', 'default_factory', '__doc__', '__hash__', '__lt__', '__le__', '__eq__', '__ne__', '__gt__', '__ge__', '__iter__', '__len__', '__getitem__', '__setitem__', '__delitem__', '__contains__', '__new__', '__sizeof__', 'get', 'setdefault', 'pop', 'popitem', 'keys', 'items', 'values', 'update', 'fromkeys', 'clear', '__reversed__', '__str__', '__setattr__', '__delattr__', '__reduce_ex__', '__subclasshook__', '__init_subclass__', '__format__', '__dir__', '__class__'], 5: ['__repr__', '__getattribute__', '__init__', '__missing__', 'copy', '__copy__', '__reduce__', 'default_factory', '__doc__', '__hash__', '__lt__', '__le__', '__eq__', '__ne__', '__gt__', '__ge__', '__iter__', '__len__', '__getitem__', '__setitem__', '__delitem__', '__contains__', '__new__', '__sizeof__', 'get', 'setdefault', 'pop', 'popitem', 'keys', 'items', 'values', 'update', 'fromkeys', 'clear', '__reversed__', '__str__', '__setattr__', '__delattr__', '__reduce_ex__', '__subclasshook__', '__init_subclass__', '__format__', '__dir__', '__class__'], 6: ['__repr__', '__getattribute__', '__init__', '__missing__', 'copy', '__copy__', '__reduce__', 'default_factory', '__doc__', '__hash__', '__lt__', '__le__', '__eq__', '__ne__', '__gt__', '__ge__', '__iter__', '__len__', '__getitem__', '__setitem__', '__delitem__', '__contains__', '__new__', '__sizeof__', 'get', 'setdefault', 'pop', 'popitem', 'keys', 'items', 'values', 'update', 'fromkeys', 'clear', '__reversed__', '__str__', '__setattr__', '__delattr__', '__reduce_ex__', '__subclasshook__', '__init_subclass__', '__format__', '__dir__', '__class__'], 7: [], 11: ['__repr__', '__getattribute__', '__init__', '__missing__', 'copy', '__copy__', '__reduce__', 'default_factory', '__doc__', '__hash__', '__lt__', '__le__', '__eq__', '__ne__', '__gt__', '__ge__', '__iter__', '__len__', '__getitem__', '__setitem__', '__delitem__', '__contains__', '__new__', '__sizeof__', 'get', 'setdefault', 'pop', 'popitem', 'keys', 'items', 'values', 'update', 'fromkeys', 'clear', '__reversed__', '__str__', '__setattr__', '__delattr__', '__reduce_ex__', '__subclasshook__', '__init_subclass__', '__format__', '__dir__', '__class__'], 12: [], 20: ..., 21: defaultdict(<class 'list'>, {})}, 'get_ipython': <bound method InteractiveShell.get_ipython of <ipykernel.zmqshell.ZMQInteractiveShell object at 0x1053fe730>>, 'exit': <IPython.core.autocall.ZMQExitAutocall object at 0x105465580>, 'quit': <IPython.core.autocall.ZMQExitAutocall object at 0x105465580>, '_': defaultdict(<class 'list'>, {}), '__': ..., '___': [], 'sys': <module 'sys' (built-in)>, 'os': <module 'os' from '/Library/Developer/CommandLineTools/Library/Frameworks/Python3.framework/Versions/3.8/lib/python3.8/os.py'>, '_i': \"pylookup['my_dict']\", '_ii': 'pylookup', '_iii': 'import builtins\\nfrom collections import ChainMap\\npylookup = ChainMap(locals(), globals(), vars(builtins))', '_i1': 'import collections', 'collections': <module 'collections' from '/Library/Developer/CommandLineTools/Library/Frameworks/Python3.framework/Versions/3.8/lib/python3.8/collections/__init__.py'>, '_i2': 'dict = collections.defaultdict(list)', 'dict': defaultdict(<class 'list'>, {}), '_i3': 'dict.__dir__()', '_3': ['__repr__', '__getattribute__', '__init__', '__missing__', 'copy', '__copy__', '__reduce__', 'default_factory', '__doc__', '__hash__', '__lt__', '__le__', '__eq__', '__ne__', '__gt__', '__ge__', '__iter__', '__len__', '__getitem__', '__setitem__', '__delitem__', '__contains__', '__new__', '__sizeof__', 'get', 'setdefault', 'pop', 'popitem', 'keys', 'items', 'values', 'update', 'fromkeys', 'clear', '__reversed__', '__str__', '__setattr__', '__delattr__', '__reduce_ex__', '__subclasshook__', '__init_subclass__', '__format__', '__dir__', '__class__'], '_i4': 'my_dict = collections.defaultdict(list)', 'my_dict': defaultdict(<class 'list'>, {}), '_i5': 'dict.__dir__()', '_5': ['__repr__', '__getattribute__', '__init__', '__missing__', 'copy', '__copy__', '__reduce__', 'default_factory', '__doc__', '__hash__', '__lt__', '__le__', '__eq__', '__ne__', '__gt__', '__ge__', '__iter__', '__len__', '__getitem__', '__setitem__', '__delitem__', '__contains__', '__new__', '__sizeof__', 'get', 'setdefault', 'pop', 'popitem', 'keys', 'items', 'values', 'update', 'fromkeys', 'clear', '__reversed__', '__str__', '__setattr__', '__delattr__', '__reduce_ex__', '__subclasshook__', '__init_subclass__', '__format__', '__dir__', '__class__'], '_i6': 'my_dict.__dir__()', '_6': ['__repr__', '__getattribute__', '__init__', '__missing__', 'copy', '__copy__', '__reduce__', 'default_factory', '__doc__', '__hash__', '__lt__', '__le__', '__eq__', '__ne__', '__gt__', '__ge__', '__iter__', '__len__', '__getitem__', '__setitem__', '__delitem__', '__contains__', '__new__', '__sizeof__', 'get', 'setdefault', 'pop', 'popitem', 'keys', 'items', 'values', 'update', 'fromkeys', 'clear', '__reversed__', '__str__', '__setattr__', '__delattr__', '__reduce_ex__', '__subclasshook__', '__init_subclass__', '__format__', '__dir__', '__class__'], '_i7': 'my_dict.default_factory()', '_7': [], '_i8': 'my_dict = collections.defaultdict(list(1,2,3))', '_i9': 'my_dict = collections.defaultdict(list))', '_i10': 'my_dict = collections.defaultdict(list)', '_i11': 'my_dict.__dir__()', '_11': ['__repr__', '__getattribute__', '__init__', '__missing__', 'copy', '__copy__', '__reduce__', 'default_factory', '__doc__', '__hash__', '__lt__', '__le__', '__eq__', '__ne__', '__gt__', '__ge__', '__iter__', '__len__', '__getitem__', '__setitem__', '__delitem__', '__contains__', '__new__', '__sizeof__', 'get', 'setdefault', 'pop', 'popitem', 'keys', 'items', 'values', 'update', 'fromkeys', 'clear', '__reversed__', '__str__', '__setattr__', '__delattr__', '__reduce_ex__', '__subclasshook__', '__init_subclass__', '__format__', '__dir__', '__class__'], '_i12': 'my_dict.default_factory()', '_12': [], '_i13': 'a = list(1,2,3)', '_i14': 'a = [1,2,3', '_i15': 'a = [1,2,3]', 'a': [1, 2, 3], '_i16': 'my_dict = collections.defaultdict(a)', '_i17': 'my_dict = collections.defaultdict(list)', '_i18': 'import builtins\\npylookup = ChainMap(locals(), globals(), vars(builtins))', 'builtins': <module 'builtins' (built-in)>, '_i19': 'import builtins\\nfrom collections import ChainMap\\npylookup = ChainMap(locals(), globals(), vars(builtins))', 'ChainMap': <class 'collections.ChainMap'>, 'pylookup': ..., '_i20': 'pylookup', '_20': ..., '_i21': \"pylookup['my_dict']\", '_21': defaultdict(<class 'list'>, {}), '_i22': 'pylookup'}, {'__name__': 'builtins', '__doc__': \"Built-in functions, exceptions, and other objects.\\n\\nNoteworthy: None is the `nil' object; Ellipsis represents `...' in slices.\", '__package__': '', '__loader__': <class '_frozen_importlib.BuiltinImporter'>, '__spec__': ModuleSpec(name='builtins', loader=<class '_frozen_importlib.BuiltinImporter'>), '__build_class__': <built-in function __build_class__>, '__import__': <built-in function __import__>, 'abs': <built-in function abs>, 'all': <built-in function all>, 'any': <built-in function any>, 'ascii': <built-in function ascii>, 'bin': <built-in function bin>, 'breakpoint': <built-in function breakpoint>, 'callable': <built-in function callable>, 'chr': <built-in function chr>, 'compile': <built-in function compile>, 'delattr': <built-in function delattr>, 'dir': <built-in function dir>, 'divmod': <built-in function divmod>, 'eval': <built-in function eval>, 'exec': <built-in function exec>, 'format': <built-in function format>, 'getattr': <built-in function getattr>, 'globals': <built-in function globals>, 'hasattr': <built-in function hasattr>, 'hash': <built-in function hash>, 'hex': <built-in function hex>, 'id': <built-in function id>, 'input': <bound method Kernel.raw_input of <ipykernel.ipkernel.IPythonKernel object at 0x1054579d0>>, 'isinstance': <built-in function isinstance>, 'issubclass': <built-in function issubclass>, 'iter': <built-in function iter>, 'len': <built-in function len>, 'locals': <built-in function locals>, 'max': <built-in function max>, 'min': <built-in function min>, 'next': <built-in function next>, 'oct': <built-in function oct>, 'ord': <built-in function ord>, 'pow': <built-in function pow>, 'print': <built-in function print>, 'repr': <built-in function repr>, 'round': <built-in function round>, 'setattr': <built-in function setattr>, 'sorted': <built-in function sorted>, 'sum': <built-in function sum>, 'vars': <built-in function vars>, 'None': None, 'Ellipsis': Ellipsis, 'NotImplemented': NotImplemented, 'False': False, 'True': True, 'bool': <class 'bool'>, 'memoryview': <class 'memoryview'>, 'bytearray': <class 'bytearray'>, 'bytes': <class 'bytes'>, 'classmethod': <class 'classmethod'>, 'complex': <class 'complex'>, 'dict': <class 'dict'>, 'enumerate': <class 'enumerate'>, 'filter': <class 'filter'>, 'float': <class 'float'>, 'frozenset': <class 'frozenset'>, 'property': <class 'property'>, 'int': <class 'int'>, 'list': <class 'list'>, 'map': <class 'map'>, 'object': <class 'object'>, 'range': <class 'range'>, 'reversed': <class 'reversed'>, 'set': <class 'set'>, 'slice': <class 'slice'>, 'staticmethod': <class 'staticmethod'>, 'str': <class 'str'>, 'super': <class 'super'>, 'tuple': <class 'tuple'>, 'type': <class 'type'>, 'zip': <class 'zip'>, '__debug__': True, 'BaseException': <class 'BaseException'>, 'Exception': <class 'Exception'>, 'TypeError': <class 'TypeError'>, 'StopAsyncIteration': <class 'StopAsyncIteration'>, 'StopIteration': <class 'StopIteration'>, 'GeneratorExit': <class 'GeneratorExit'>, 'SystemExit': <class 'SystemExit'>, 'KeyboardInterrupt': <class 'KeyboardInterrupt'>, 'ImportError': <class 'ImportError'>, 'ModuleNotFoundError': <class 'ModuleNotFoundError'>, 'OSError': <class 'OSError'>, 'EnvironmentError': <class 'OSError'>, 'IOError': <class 'OSError'>, 'EOFError': <class 'EOFError'>, 'RuntimeError': <class 'RuntimeError'>, 'RecursionError': <class 'RecursionError'>, 'NotImplementedError': <class 'NotImplementedError'>, 'NameError': <class 'NameError'>, 'UnboundLocalError': <class 'UnboundLocalError'>, 'AttributeError': <class 'AttributeError'>, 'SyntaxError': <class 'SyntaxError'>, 'IndentationError': <class 'IndentationError'>, 'TabError': <class 'TabError'>, 'LookupError': <class 'LookupError'>, 'IndexError': <class 'IndexError'>, 'KeyError': <class 'KeyError'>, 'ValueError': <class 'ValueError'>, 'UnicodeError': <class 'UnicodeError'>, 'UnicodeEncodeError': <class 'UnicodeEncodeError'>, 'UnicodeDecodeError': <class 'UnicodeDecodeError'>, 'UnicodeTranslateError': <class 'UnicodeTranslateError'>, 'AssertionError': <class 'AssertionError'>, 'ArithmeticError': <class 'ArithmeticError'>, 'FloatingPointError': <class 'FloatingPointError'>, 'OverflowError': <class 'OverflowError'>, 'ZeroDivisionError': <class 'ZeroDivisionError'>, 'SystemError': <class 'SystemError'>, 'ReferenceError': <class 'ReferenceError'>, 'MemoryError': <class 'MemoryError'>, 'BufferError': <class 'BufferError'>, 'Warning': <class 'Warning'>, 'UserWarning': <class 'UserWarning'>, 'DeprecationWarning': <class 'DeprecationWarning'>, 'PendingDeprecationWarning': <class 'PendingDeprecationWarning'>, 'SyntaxWarning': <class 'SyntaxWarning'>, 'RuntimeWarning': <class 'RuntimeWarning'>, 'FutureWarning': <class 'FutureWarning'>, 'ImportWarning': <class 'ImportWarning'>, 'UnicodeWarning': <class 'UnicodeWarning'>, 'BytesWarning': <class 'BytesWarning'>, 'ResourceWarning': <class 'ResourceWarning'>, 'ConnectionError': <class 'ConnectionError'>, 'BlockingIOError': <class 'BlockingIOError'>, 'BrokenPipeError': <class 'BrokenPipeError'>, 'ChildProcessError': <class 'ChildProcessError'>, 'ConnectionAbortedError': <class 'ConnectionAbortedError'>, 'ConnectionRefusedError': <class 'ConnectionRefusedError'>, 'ConnectionResetError': <class 'ConnectionResetError'>, 'FileExistsError': <class 'FileExistsError'>, 'FileNotFoundError': <class 'FileNotFoundError'>, 'IsADirectoryError': <class 'IsADirectoryError'>, 'NotADirectoryError': <class 'NotADirectoryError'>, 'InterruptedError': <class 'InterruptedError'>, 'PermissionError': <class 'PermissionError'>, 'ProcessLookupError': <class 'ProcessLookupError'>, 'TimeoutError': <class 'TimeoutError'>, 'open': <built-in function open>, 'copyright': Copyright (c) 2001-2020 Python Software Foundation.\nAll Rights Reserved.\n\nCopyright (c) 2000 BeOpen.com.\nAll Rights Reserved.\n\nCopyright (c) 1995-2001 Corporation for National Research Initiatives.\nAll Rights Reserved.\n\nCopyright (c) 1991-1995 Stichting Mathematisch Centrum, Amsterdam.\nAll Rights Reserved., 'credits':     Thanks to CWI, CNRI, BeOpen.com, Zope Corporation and a cast of thousands\n    for supporting Python development.  See www.python.org for more information., 'license': Type license() to see the full license text, 'help': Type help() for interactive help, or help(object) for help about object., '__IPYTHON__': True, 'display': <function display at 0x103f1fdc0>, 'get_ipython': <bound method InteractiveShell.get_ipython of <ipykernel.zmqshell.ZMQInteractiveShell object at 0x1053fe730>>})"
     },
     "execution_count": 22,
     "metadata": {},
     "output_type": "execute_result"
    }
   ],
   "source": [
    "pylookup"
   ]
  },
  {
   "cell_type": "markdown",
   "metadata": {},
   "source": [
    "---\n",
    "\n",
    "## collections.Counter"
   ]
  },
  {
   "cell_type": "code",
   "execution_count": 23,
   "metadata": {},
   "outputs": [],
   "source": [
    "from collections import Counter"
   ]
  },
  {
   "cell_type": "code",
   "execution_count": 24,
   "metadata": {},
   "outputs": [],
   "source": [
    "ct = Counter('abracadabra')"
   ]
  },
  {
   "cell_type": "code",
   "execution_count": 25,
   "metadata": {},
   "outputs": [
    {
     "data": {
      "text/plain": "Counter({'a': 5, 'b': 2, 'r': 2, 'c': 1, 'd': 1})"
     },
     "execution_count": 25,
     "metadata": {},
     "output_type": "execute_result"
    }
   ],
   "source": [
    "ct"
   ]
  },
  {
   "cell_type": "code",
   "execution_count": 28,
   "metadata": {},
   "outputs": [],
   "source": [
    "ct.update('aaaaazzz')"
   ]
  },
  {
   "cell_type": "code",
   "execution_count": 29,
   "metadata": {},
   "outputs": [
    {
     "data": {
      "text/plain": "Counter({'a': 10, 'b': 2, 'r': 2, 'c': 1, 'd': 1, 'z': 3})"
     },
     "execution_count": 29,
     "metadata": {},
     "output_type": "execute_result"
    }
   ],
   "source": [
    "ct"
   ]
  },
  {
   "cell_type": "code",
   "execution_count": 30,
   "metadata": {},
   "outputs": [
    {
     "data": {
      "text/plain": "[('a', 10), ('z', 3)]"
     },
     "execution_count": 30,
     "metadata": {},
     "output_type": "execute_result"
    }
   ],
   "source": [
    "ct.most_common(2)"
   ]
  },
  {
   "cell_type": "markdown",
   "metadata": {},
   "source": [
    "---\n",
    "\n",
    "## types.MappingProxyType"
   ]
  },
  {
   "cell_type": "code",
   "execution_count": 31,
   "metadata": {},
   "outputs": [],
   "source": [
    "from types import MappingProxyType"
   ]
  },
  {
   "cell_type": "code",
   "execution_count": 32,
   "metadata": {},
   "outputs": [],
   "source": [
    "d = {1:'A'}"
   ]
  },
  {
   "cell_type": "code",
   "execution_count": 33,
   "metadata": {},
   "outputs": [],
   "source": [
    "d_proxy = MappingProxyType(d)"
   ]
  },
  {
   "cell_type": "code",
   "execution_count": 34,
   "metadata": {},
   "outputs": [
    {
     "data": {
      "text/plain": "'A'"
     },
     "execution_count": 34,
     "metadata": {},
     "output_type": "execute_result"
    }
   ],
   "source": [
    "d_proxy[1]"
   ]
  },
  {
   "cell_type": "code",
   "execution_count": 36,
   "metadata": {},
   "outputs": [
    {
     "ename": "TypeError",
     "evalue": "'mappingproxy' object does not support item assignment",
     "output_type": "error",
     "traceback": [
      "\u001b[0;31m---------------------------------------------------------------------------\u001b[0m",
      "\u001b[0;31mTypeError\u001b[0m                                 Traceback (most recent call last)",
      "\u001b[0;32m<ipython-input-36-118de4fd8166>\u001b[0m in \u001b[0;36m<module>\u001b[0;34m\u001b[0m\n\u001b[0;32m----> 1\u001b[0;31m \u001b[0md_proxy\u001b[0m\u001b[0;34m[\u001b[0m\u001b[0;36m2\u001b[0m\u001b[0;34m]\u001b[0m \u001b[0;34m=\u001b[0m \u001b[0;34m'b'\u001b[0m\u001b[0;34m\u001b[0m\u001b[0;34m\u001b[0m\u001b[0m\n\u001b[0m",
      "\u001b[0;31mTypeError\u001b[0m: 'mappingproxy' object does not support item assignment"
     ]
    }
   ],
   "source": [
    "d_proxy[2] = 'b'"
   ]
  },
  {
   "cell_type": "code",
   "execution_count": 37,
   "metadata": {},
   "outputs": [],
   "source": [
    "d[2] = 'B'"
   ]
  },
  {
   "cell_type": "code",
   "execution_count": 38,
   "metadata": {},
   "outputs": [
    {
     "data": {
      "text/plain": "'B'"
     },
     "execution_count": 38,
     "metadata": {},
     "output_type": "execute_result"
    }
   ],
   "source": [
    "d_proxy[2]"
   ]
  },
  {
   "cell_type": "code",
   "execution_count": 39,
   "metadata": {},
   "outputs": [
    {
     "name": "stdout",
     "output_type": "stream",
     "text": [
      "y=x.items()-->dict_items([('name', 'john'), ('age', 25)])\n",
      "循环start\n",
      "('name', 'john')\n",
      "('age', 25)\n",
      "循环end\n",
      "修改后--》{'name': 'john', 'age': 30}\n",
      "dict_items([('name', 'john'), ('age', 30)])\n",
      "list-->[('name', 'john'), ('age', 30)]\n",
      "y-->dict_keys(['name', 'age'])\n",
      "添加后的x-->{'name': 'john', 'age': 25, 'set': 'male'}\n",
      "修改后的键视图dict_keys(['name', 'age', 'set'])\n",
      "list(y)-->['name', 'age', 'set']\n",
      "y=x.values()-->dict_values(['john', 25])\n",
      "添加后的x-->{'name': 'john', 'age': 25, 'set': 'male'}\n",
      "修改后的值视图,y-->dict_values(['john', 25, 'male'])\n",
      "list(y)-->['john', 25, 'male']\n",
      "dict_keys(['a', 'b'])\n",
      "dict_keys(['b', 'c'])\n",
      "{'a'}\n",
      "{'b', 'c', 'a'}\n",
      "{'b'}\n",
      "{'c', 'a'}\n"
     ]
    }
   ],
   "source": [
    "\n",
    "#字典的items(),keys()和values()方法用于返回字典键值对的视图对象。视图对象支持迭代操作，并可反应未来对字典的修改。\n",
    "#视图对象不是列表，不支持索引。通常list（）将视图对象转换为列表。\n",
    "#1.items() items方法返回键值对视图。例如：\n",
    "x={'name':'john','age':25}\n",
    "y=x.items()\n",
    "#返回键值对视图\n",
    "print(\"y=x.items()-->\",end=\"\")\n",
    "print(y)\n",
    "#显示兼职对视图，兼职对视图为dict_items()对象。\n",
    " \n",
    "#迭代键值对视图\n",
    "print('循环start')\n",
    "for a in y:\n",
    "    print(a)\n",
    "print('循环end')\n",
    "#修改字典\n",
    "x['age']=30\n",
    "print('修改后--》',end=\"\")\n",
    "print(x)\n",
    "print(y)\n",
    "print(\"list-->\",end=\"\")\n",
    "print(list(y))\n",
    " \n",
    "#keys()返回字典中所有键的视图\n",
    "x={'name':'john','age':25}\n",
    "y=x.keys()\n",
    " \n",
    "print(\"y-->\",end=\"\")\n",
    "print(y)  #输出键的视图\n",
    " \n",
    "#为字典添加键值对;\n",
    "x['set']='male'\n",
    "print('添加后的x-->',end=\"\")\n",
    "print(x)\n",
    " \n",
    "print(\"修改后的键视图\",end=\"\")\n",
    "print(y)\n",
    " \n",
    "print(\"list(y)-->\",end=\"\")\n",
    "print(list(y))\n",
    " \n",
    "#value,value()方法字典中全部值的视图。\n",
    "x={'name':'john','age':25}\n",
    "y=x.values();\n",
    "print(\"y=x.values()-->\",end=\"\")\n",
    "print(y)\n",
    "#输出值的视图\n",
    "x['set']='male'\n",
    "print('添加后的x-->',end=\"\")\n",
    "print(x)\n",
    " \n",
    "print(\"修改后的值视图,y-->\",end=\"\")\n",
    "print(y)\n",
    " \n",
    "print(\"list(y)-->\",end=\"\")\n",
    "print(list(y))\n",
    " \n",
    "#键视图的集合操作;键视图支持各种集合运算，键值对视图和值视图不支持集合运算。\n",
    "x={'a':1,'b':2}\n",
    "#键视图\n",
    "kx=x.keys()\n",
    "print(kx)\n",
    "#键视图\n",
    "y={'b':3,'c':4}\n",
    "ky=y.keys()\n",
    "print(ky)\n",
    " \n",
    "#求值差\n",
    "print(kx-ky)\n",
    " \n",
    "#求并集\n",
    "print(kx|ky) \n",
    "#求交集;\n",
    "print(kx&ky)\n",
    "#求对称差集;\n",
    "print(kx^ky)"
   ]
  }
 ],
 "metadata": {
  "kernelspec": {
   "display_name": "Python 3.8.2 64-bit",
   "name": "python382jvsc74a57bd031f2aee4e71d21fbe5cf8b01ff0e069b9275f58929596ceb00d14d90e3e16cd6"
  },
  "language_info": {
   "codemirror_mode": {
    "name": "ipython",
    "version": 3
   },
   "file_extension": ".py",
   "mimetype": "text/x-python",
   "name": "python",
   "nbconvert_exporter": "python",
   "pygments_lexer": "ipython3",
   "version": "3.8.2"
  },
  "metadata": {
   "interpreter": {
    "hash": "31f2aee4e71d21fbe5cf8b01ff0e069b9275f58929596ceb00d14d90e3e16cd6"
   }
  },
  "orig_nbformat": 2
 },
 "nbformat": 4,
 "nbformat_minor": 2
}